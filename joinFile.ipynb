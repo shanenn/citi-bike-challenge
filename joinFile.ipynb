{
 "cells": [
  {
   "cell_type": "code",
   "execution_count": 1,
   "metadata": {},
   "outputs": [],
   "source": [
    "import pandas as pd\n",
    "import os"
   ]
  },
  {
   "cell_type": "code",
   "execution_count": 2,
   "metadata": {},
   "outputs": [
    {
     "name": "stderr",
     "output_type": "stream",
     "text": [
      "C:\\Users\\shane\\AppData\\Local\\Temp\\ipykernel_4400\\910549978.py:6: DtypeWarning: Columns (5,7) have mixed types. Specify dtype option on import or set low_memory=False.\n",
      "  temp = pd.read_csv(paths+i)\n",
      "C:\\Users\\shane\\AppData\\Local\\Temp\\ipykernel_4400\\910549978.py:6: DtypeWarning: Columns (5,7) have mixed types. Specify dtype option on import or set low_memory=False.\n",
      "  temp = pd.read_csv(paths+i)\n",
      "C:\\Users\\shane\\AppData\\Local\\Temp\\ipykernel_4400\\910549978.py:6: DtypeWarning: Columns (5,7) have mixed types. Specify dtype option on import or set low_memory=False.\n",
      "  temp = pd.read_csv(paths+i)\n",
      "C:\\Users\\shane\\AppData\\Local\\Temp\\ipykernel_4400\\910549978.py:6: DtypeWarning: Columns (5,7) have mixed types. Specify dtype option on import or set low_memory=False.\n",
      "  temp = pd.read_csv(paths+i)\n",
      "C:\\Users\\shane\\AppData\\Local\\Temp\\ipykernel_4400\\910549978.py:6: DtypeWarning: Columns (5,7) have mixed types. Specify dtype option on import or set low_memory=False.\n",
      "  temp = pd.read_csv(paths+i)\n",
      "C:\\Users\\shane\\AppData\\Local\\Temp\\ipykernel_4400\\910549978.py:6: DtypeWarning: Columns (5,7) have mixed types. Specify dtype option on import or set low_memory=False.\n",
      "  temp = pd.read_csv(paths+i)\n",
      "C:\\Users\\shane\\AppData\\Local\\Temp\\ipykernel_4400\\910549978.py:6: DtypeWarning: Columns (7) have mixed types. Specify dtype option on import or set low_memory=False.\n",
      "  temp = pd.read_csv(paths+i)\n",
      "C:\\Users\\shane\\AppData\\Local\\Temp\\ipykernel_4400\\910549978.py:6: DtypeWarning: Columns (5,7) have mixed types. Specify dtype option on import or set low_memory=False.\n",
      "  temp = pd.read_csv(paths+i)\n",
      "C:\\Users\\shane\\AppData\\Local\\Temp\\ipykernel_4400\\910549978.py:6: DtypeWarning: Columns (5,7) have mixed types. Specify dtype option on import or set low_memory=False.\n",
      "  temp = pd.read_csv(paths+i)\n",
      "C:\\Users\\shane\\AppData\\Local\\Temp\\ipykernel_4400\\910549978.py:6: DtypeWarning: Columns (5,7) have mixed types. Specify dtype option on import or set low_memory=False.\n",
      "  temp = pd.read_csv(paths+i)\n",
      "C:\\Users\\shane\\AppData\\Local\\Temp\\ipykernel_4400\\910549978.py:6: DtypeWarning: Columns (5,7) have mixed types. Specify dtype option on import or set low_memory=False.\n",
      "  temp = pd.read_csv(paths+i)\n",
      "C:\\Users\\shane\\AppData\\Local\\Temp\\ipykernel_4400\\910549978.py:6: DtypeWarning: Columns (5,7) have mixed types. Specify dtype option on import or set low_memory=False.\n",
      "  temp = pd.read_csv(paths+i)\n",
      "C:\\Users\\shane\\AppData\\Local\\Temp\\ipykernel_4400\\910549978.py:6: DtypeWarning: Columns (5,7) have mixed types. Specify dtype option on import or set low_memory=False.\n",
      "  temp = pd.read_csv(paths+i)\n"
     ]
    }
   ],
   "source": [
    "paths = './data/'\n",
    "comb_df = pd.read_csv(paths+os.listdir(paths)[0])\n",
    "samp = int(len(comb_df)*.15)\n",
    "comb_df = comb_df.sample(samp,random_state=1)\n",
    "for i in os.listdir(paths)[1:]:\n",
    "    temp = pd.read_csv(paths+i)\n",
    "    samp = int(len(temp)*.15)\n",
    "    temp = temp.sample(samp,random_state=1)\n",
    "    comb_df = pd.concat([comb_df,temp],ignore_index=True,axis=0)"
   ]
  },
  {
   "cell_type": "code",
   "execution_count": 3,
   "metadata": {},
   "outputs": [],
   "source": [
    "comb_df.to_csv(paths+'202209-202309-citibike-tripdata.csv',index=False)\n",
    "comb_df.sample(15000,random_state=1).to_csv(paths+'202209-202309-citibike-tripdata-reduced.csv',index=False)"
   ]
  },
  {
   "cell_type": "code",
   "execution_count": null,
   "metadata": {},
   "outputs": [],
   "source": [
    "# ## Run to make COMPLETE Dataset\n",
    "# paths = './data/'\n",
    "# comb_df = pd.read_csv(paths+os.listdir(paths)[0])\n",
    "# for i in os.listdir(paths)[1:]:\n",
    "#     temp = pd.read_csv(paths+i)\n",
    "#     comb_df = pd.concat([comb_df,temp],ignore_index=True,axis=0)\n",
    "# comb_df.to_csv(paths+'202209-202309-citibike-tripdata-full.csv',index=False)\n"
   ]
  },
  {
   "cell_type": "code",
   "execution_count": null,
   "metadata": {},
   "outputs": [],
   "source": []
  }
 ],
 "metadata": {
  "kernelspec": {
   "display_name": "bootcamp",
   "language": "python",
   "name": "python3"
  },
  "language_info": {
   "codemirror_mode": {
    "name": "ipython",
    "version": 3
   },
   "file_extension": ".py",
   "mimetype": "text/x-python",
   "name": "python",
   "nbconvert_exporter": "python",
   "pygments_lexer": "ipython3",
   "version": "3.9.13"
  }
 },
 "nbformat": 4,
 "nbformat_minor": 2
}
